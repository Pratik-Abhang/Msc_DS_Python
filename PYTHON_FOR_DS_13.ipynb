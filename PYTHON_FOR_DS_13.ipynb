{
 "cells": [
  {
   "cell_type": "code",
   "execution_count": 3,
   "id": "196aa75d",
   "metadata": {},
   "outputs": [
    {
     "name": "stdout",
     "output_type": "stream",
     "text": [
      "enter your no :10\n",
      "enter your no :29\n",
      "10\n",
      "29\n",
      "29\n",
      "10\n"
     ]
    }
   ],
   "source": [
    "# python program for swapping \n",
    "\n",
    "a=int(input(\"enter your no :\"))\n",
    "b=int(input(\"enter your no :\"))\n",
    "# befor swapping \n",
    "print(a)\n",
    "print(b)\n",
    "\n",
    "temp=a #(here temp is 10)\n",
    "a=b #(here a = 20)\n",
    "b=temp # (here b = temp ie a)\n",
    "\n",
    "\n",
    "# after swapping \n",
    "print(a)\n",
    "print(b)"
   ]
  },
  {
   "cell_type": "code",
   "execution_count": 15,
   "id": "531e35c2",
   "metadata": {},
   "outputs": [
    {
     "name": "stdout",
     "output_type": "stream",
     "text": [
      "enter your no :11\n",
      " prime\n"
     ]
    }
   ],
   "source": [
    "# program for prime \n",
    "\n",
    "no=int(input(\"enter your no :\"))\n",
    "\n",
    "for i in range(2,no):\n",
    "    if no%i==0:\n",
    "        print(\"Not Prime \")\n",
    "        break\n",
    "    else:\n",
    "        print(\" prime\")\n",
    "        break"
   ]
  },
  {
   "cell_type": "code",
   "execution_count": 25,
   "id": "35cf980c",
   "metadata": {},
   "outputs": [
    {
     "name": "stdout",
     "output_type": "stream",
     "text": [
      "enter your no :8\n",
      "Factorial of no is : 40320\n"
     ]
    }
   ],
   "source": [
    "# factorial of no \n",
    "\n",
    "no=int(input(\"enter your no :\"))\n",
    "\n",
    "fact=1\n",
    "    \n",
    "if (no<0):\n",
    "    print(\"it's a negative no , factorial not exist\")\n",
    "    \n",
    "elif (no==0):\n",
    "    print(\"factorial is o \")\n",
    "else:\n",
    "    for i in range(1,no+1):\n",
    "        fact=fact*i\n",
    "    print(\"Factorial of no is :\",fact)\n",
    "    \n",
    "    \n",
    "    "
   ]
  },
  {
   "cell_type": "code",
   "execution_count": 79,
   "id": "aeafb9a1",
   "metadata": {},
   "outputs": [
    {
     "name": "stdout",
     "output_type": "stream",
     "text": [
      "enter no :5\n",
      "15\n"
     ]
    }
   ],
   "source": [
    "# sum of all no in range \n",
    "\n",
    "a=int(input(\"enter no :\"))\n",
    "\n",
    "print(sum(range(1,a+1)))"
   ]
  },
  {
   "cell_type": "code",
   "execution_count": 31,
   "id": "33ff7b1b",
   "metadata": {},
   "outputs": [
    {
     "name": "stdout",
     "output_type": "stream",
     "text": [
      "enter your range no :10\n",
      "30\n"
     ]
    }
   ],
   "source": [
    "# addition of even no from specific range \n",
    "\n",
    "no=int(input(\"enter your range no :\"))\n",
    "\n",
    "sums=0\n",
    "for i in range(1,no+1):\n",
    "    if (i%2==0):\n",
    "        sums+=i\n",
    "print(sums)\n",
    "    \n",
    "        "
   ]
  },
  {
   "cell_type": "code",
   "execution_count": 78,
   "id": "e352f9eb",
   "metadata": {},
   "outputs": [
    {
     "name": "stdout",
     "output_type": "stream",
     "text": [
      "[4, 5]\n",
      "[1, 2, 3]\n",
      "[6, 7, 8]\n",
      "[1, 2, 3, 6, 7, 8]\n"
     ]
    }
   ],
   "source": [
    "# program to remove items that are duplicate in two list \n",
    "\n",
    "\n",
    "l1=[1,2,3,4,5]\n",
    "l2=[4,5,6,7,8]\n",
    "\n",
    "l3=[]\n",
    "for i in l1:\n",
    "    if i in l2:\n",
    "        l3.append(i)\n",
    "                      \n",
    "print(l3)\n",
    "\n",
    "for i in l3:\n",
    "    l1.remove(i)\n",
    "    l2.remove(i)\n",
    "\n",
    "print(l1)\n",
    "print(l2)\n",
    "print(l1+l2)"
   ]
  },
  {
   "cell_type": "code",
   "execution_count": 8,
   "id": "33473002",
   "metadata": {},
   "outputs": [
    {
     "name": "stdout",
     "output_type": "stream",
     "text": [
      "[10, 9, 8, 7, 6, 5, 4, 3, 2, 1]\n"
     ]
    }
   ],
   "source": [
    "# program to sort elements \n",
    "\n",
    "ip=[1,3,2,5,4,6,7,10,9,8]\n",
    "\n",
    "ip.sort(reverse=True)\n",
    "print(ip)"
   ]
  },
  {
   "cell_type": "code",
   "execution_count": null,
   "id": "f5f24b39",
   "metadata": {},
   "outputs": [],
   "source": [
    "# sorting without sort func \n",
    "\n"
   ]
  },
  {
   "cell_type": "code",
   "execution_count": null,
   "id": "f3458fe1",
   "metadata": {},
   "outputs": [],
   "source": []
  },
  {
   "cell_type": "code",
   "execution_count": null,
   "id": "6f602b87",
   "metadata": {},
   "outputs": [],
   "source": []
  },
  {
   "cell_type": "code",
   "execution_count": 77,
   "id": "5ad2b63b",
   "metadata": {},
   "outputs": [],
   "source": [
    "# basic file handling \n",
    "\n",
    "f1=open(\"basic.txt\",\"r+\")\n",
    "\n",
    "f1.write(\"dfhbehr efjhgerug eghb\")\n",
    "\n",
    "f1.close()"
   ]
  },
  {
   "cell_type": "code",
   "execution_count": 109,
   "id": "4b1f4b9c",
   "metadata": {},
   "outputs": [
    {
     "name": "stdout",
     "output_type": "stream",
     "text": [
      "22\n",
      "egergbihregeirgirehgeg\n"
     ]
    }
   ],
   "source": [
    "large_array=[\"sdjhv\",\"wifuiwf\",\"weifyiwgfihwf\",\"divfwdf\",\"egergbihregeirgirehgeg\"]\n",
    "\n",
    "max_len=len(large_array[0])\n",
    "max_word=large_array[0]\n",
    "\n",
    "\n",
    "for i in large_array:\n",
    "    if len(i)>max_len:\n",
    "        max_len=len(i)\n",
    "        max_word=i\n",
    "    else:\n",
    "        pass\n",
    "print(max_len)\n",
    "print(max_word)"
   ]
  },
  {
   "cell_type": "code",
   "execution_count": 1,
   "id": "8b170631",
   "metadata": {},
   "outputs": [
    {
     "name": "stdout",
     "output_type": "stream",
     "text": [
      "enter your no :19\n",
      "82\n",
      "68\n",
      "100\n",
      "1\n",
      "in if\n",
      "Magic\n"
     ]
    },
    {
     "data": {
      "text/plain": [
       "'\\nif (sum1(n)==1):\\n    print(\"magic\")\\nelse:\\n    print(\"not\")\\n'"
      ]
     },
     "execution_count": 1,
     "metadata": {},
     "output_type": "execute_result"
    }
   ],
   "source": [
    "n=int(input(\"enter your no :\"))\n",
    "\n",
    "\n",
    "def sum1(n):\n",
    "    flag=False\n",
    "    sums=0\n",
    "    while(n>0):\n",
    "        u=n%10\n",
    "        n=n//10\n",
    "        sums=sums+(u*u)\n",
    "    print(sums)\n",
    "    if (sums==1):\n",
    "        print(\"in if\")\n",
    "        flag=True\n",
    "    else:\n",
    "        sum1(sums)\n",
    "    if flag==True:\n",
    "        print(\"Magic\")\n",
    "        \n",
    "sum1(n)\n",
    "'''\n",
    "if (sum1(n)==1):\n",
    "    print(\"magic\")\n",
    "else:\n",
    "    print(\"not\")\n",
    "'''"
   ]
  },
  {
   "cell_type": "code",
   "execution_count": 2,
   "id": "cd22a78b",
   "metadata": {},
   "outputs": [
    {
     "name": "stdout",
     "output_type": "stream",
     "text": [
      "enter your no :56\n",
      "61\n",
      "37\n",
      "58\n",
      "89\n",
      "145\n",
      "42\n",
      "20\n",
      "4\n",
      "16\n",
      "37\n",
      "not\n"
     ]
    }
   ],
   "source": [
    "n=int(input(\"enter your no :\"))\n",
    "flag=False\n",
    "for i in range(10):\n",
    "    sums=0\n",
    "    while(n>0):\n",
    "        u=n%10\n",
    "        n=n//10\n",
    "        sums=sums+(u*u)\n",
    "    n=sums\n",
    "    print(sums)\n",
    "    if (sums==1):\n",
    "        flag=True\n",
    "        \n",
    "if(flag==True):\n",
    "    print(\"magic\")\n",
    "else:\n",
    "    print(\"not magic\")\n",
    "    "
   ]
  },
  {
   "cell_type": "code",
   "execution_count": 2,
   "id": "2d8e03b6",
   "metadata": {},
   "outputs": [],
   "source": [
    "# numpy (numerical python)(homogenious data )\n",
    "# faster than lists \n",
    "# unlike list , numpy array are of fix size\n",
    "# faster , more efficient ,less syntax\n",
    "# one or multi dimensional(size) array "
   ]
  },
  {
   "cell_type": "code",
   "execution_count": 44,
   "id": "4d791b6d",
   "metadata": {},
   "outputs": [
    {
     "name": "stdout",
     "output_type": "stream",
     "text": [
      "[5 6 7 8 9]\n",
      "[1 2 3 4]\n",
      "[1, 2, 3, 4]\n",
      "6\n",
      "[7 8 9]\n",
      "[7 6 5]\n",
      "[5 7]\n",
      "[9 8]\n",
      "5\n",
      "6\n",
      "7\n",
      "8\n",
      "9\n"
     ]
    }
   ],
   "source": [
    "import numpy as np\n",
    "list=[1,2,3,4]\n",
    "\n",
    "# creating array \n",
    "sample_array=np.array(list)\n",
    "tp_array=np.array([5,6,7,8,9])\n",
    "\n",
    "print(tp_array)\n",
    "print(sample_array)\n",
    "print(list)\n",
    "print(tp_array[1])\n",
    "print(tp_array[2::])\n",
    "print(tp_array[2::-1])\n",
    "print(tp_array[0:3:2])\n",
    "print(tp_array[-1:-3:-1])\n",
    "\n",
    "\n",
    "for i in tp_array:\n",
    "    print(i)"
   ]
  },
  {
   "cell_type": "code",
   "execution_count": 5,
   "id": "fb4cf666",
   "metadata": {},
   "outputs": [
    {
     "name": "stdout",
     "output_type": "stream",
     "text": [
      "[[1 2 3]\n",
      " [4 5 6]\n",
      " [3 4 5]]\n",
      "6\n",
      "15\n",
      "12\n",
      "[[1 4 3]\n",
      " [2 5 4]\n",
      " [3 6 5]]\n",
      "8\n",
      "11\n",
      "14\n"
     ]
    }
   ],
   "source": [
    "# 2-d array (row,column) also called as matrix \n",
    "# can define as array of an array\n",
    "\n",
    "\n",
    "import numpy as np\n",
    "\n",
    "arr=np.array([[1,2,3],[4,5,6],[3,4,5]])\n",
    "# [1,2,3]=row1\n",
    "#[4,5,6]=row2\n",
    "\n",
    "print(arr)\n",
    "#print(sum(arr[0]))\n",
    "\n",
    "\n",
    "for i in arr:\n",
    "    print(sum(i))\n",
    "\n",
    "b=np.transpose(arr)\n",
    "print(b)\n",
    "\n",
    "for i in b:\n",
    "    print(sum(i))"
   ]
  },
  {
   "cell_type": "code",
   "execution_count": 77,
   "id": "ae0a1ef6",
   "metadata": {},
   "outputs": [
    {
     "name": "stdout",
     "output_type": "stream",
     "text": [
      "[1 3 4 5 6 7 8 9 9]\n",
      "[1 3 4 5 6]\n",
      "[1 4 6]\n",
      "[9 9 8 7]\n"
     ]
    }
   ],
   "source": [
    "import numpy as np\n",
    "\n",
    "arr=np.array([1,3,4,5,6,7,8,9,9])\n",
    "\n",
    "print(arr[0:])\n",
    "print(arr[0:5])\n",
    "print(arr[0:5:2])\n",
    "print(arr[-1:-5:-1]) # step count is needed in case of - indexing / slicing "
   ]
  },
  {
   "cell_type": "code",
   "execution_count": 1,
   "id": "84f8c8e4",
   "metadata": {},
   "outputs": [
    {
     "name": "stdout",
     "output_type": "stream",
     "text": [
      "(3, 3)\n",
      "[[[ 1  3  4]\n",
      "  [ 5  6  7]\n",
      "  [ 8  9  9]]\n",
      "\n",
      " [[10 11 12]\n",
      "  [13 14 15]\n",
      "  [16 17 18]]]\n"
     ]
    }
   ],
   "source": [
    "# reshaping or shaping of an array \n",
    "import numpy as np\n",
    "\n",
    "arr=np.array([[1,2,3],[4,5,6],[3,4,5]])\n",
    "\n",
    "arr1=np.array([1,3,4,5,6,7,8,9,9,10,11,12,13,14,15,16,17,18])\n",
    "\n",
    "\n",
    "print(arr.shape)\n",
    "\n",
    "#a=arr1.reshape(4,3) # multiplication must be total no of elements \n",
    "b=arr1.reshape(2,3,3) # first no is representaing total no of matrix (will form),# second=rows,#column=last\n",
    "\n",
    "#print(a)\n",
    "\n",
    "print(b)\n",
    "\n"
   ]
  },
  {
   "cell_type": "code",
   "execution_count": 15,
   "id": "3c550239",
   "metadata": {},
   "outputs": [
    {
     "name": "stdout",
     "output_type": "stream",
     "text": [
      "enter degree of vertex v1 :2\n",
      "enter degree of vertex v2 :2\n",
      "enter degree of vertex v3 :2\n",
      "enter degree of vertex v4 :1\n",
      "[2 2 2 1]\n",
      "7\n",
      "sums must be even\n"
     ]
    }
   ],
   "source": [
    "# hand shaking lamma \n",
    "# sum of degree of all vertices is equal to twice the edges \n",
    "import numpy as np\n",
    "\n",
    "d1=int(input(\"enter degree of vertex v1 :\"))\n",
    "\n",
    "\n",
    "d2=int(input(\"enter degree of vertex v2 :\"))\n",
    "\n",
    "\n",
    "d3=int(input(\"enter degree of vertex v3 :\"))\n",
    "\n",
    "\n",
    "d4=int(input(\"enter degree of vertex v4 :\"))\n",
    "\n",
    "x=np.array([d1,d2,d3,d4])\n",
    "print(x)\n",
    "sums=sum(x)\n",
    "print(sums)\n",
    "\n",
    "if sums%2!=0:\n",
    "    print(\"sums must be even\")\n",
    "else:\n",
    "    edges=(sums//2)\n",
    "    print(edges)\n",
    "    \n",
    "\n",
    "\n",
    "\n",
    "\n",
    "\n",
    "#list=[d1,d2,d3,d4]\n",
    "#sums=sum(list)\n",
    "#print(sums)"
   ]
  },
  {
   "cell_type": "code",
   "execution_count": null,
   "id": "6479fe69",
   "metadata": {},
   "outputs": [],
   "source": []
  },
  {
   "cell_type": "code",
   "execution_count": null,
   "id": "f7b5bdbd",
   "metadata": {},
   "outputs": [],
   "source": []
  }
 ],
 "metadata": {
  "kernelspec": {
   "display_name": "Python 3 (ipykernel)",
   "language": "python",
   "name": "python3"
  },
  "language_info": {
   "codemirror_mode": {
    "name": "ipython",
    "version": 3
   },
   "file_extension": ".py",
   "mimetype": "text/x-python",
   "name": "python",
   "nbconvert_exporter": "python",
   "pygments_lexer": "ipython3",
   "version": "3.9.12"
  }
 },
 "nbformat": 4,
 "nbformat_minor": 5
}
